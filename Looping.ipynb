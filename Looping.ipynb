{
 "cells": [
  {
   "cell_type": "markdown",
   "id": "8c1f1560-54dc-4dee-a6b3-20fa07789e2f",
   "metadata": {},
   "source": [
    "# Loop Methods:"
   ]
  },
  {
   "cell_type": "code",
   "execution_count": 4,
   "id": "7c37fb74-ea3a-46b1-89dd-780843d2cb59",
   "metadata": {},
   "outputs": [],
   "source": [
    "l1=['one','two','three','four','five','six','seven','eight']"
   ]
  },
  {
   "cell_type": "code",
   "execution_count": 6,
   "id": "80b4bf77-d667-441b-8bd2-01d6e1e949dc",
   "metadata": {},
   "outputs": [
    {
     "data": {
      "text/plain": [
       "['one', 'two', 'three', 'four', 'five', 'six', 'seven', 'eight']"
      ]
     },
     "execution_count": 6,
     "metadata": {},
     "output_type": "execute_result"
    }
   ],
   "source": [
    "l1"
   ]
  },
  {
   "cell_type": "code",
   "execution_count": 8,
   "id": "2fadec6f-5ec4-4fdb-a987-cf17db84af8e",
   "metadata": {},
   "outputs": [
    {
     "name": "stdout",
     "output_type": "stream",
     "text": [
      "one\n",
      "two\n",
      "three\n",
      "four\n",
      "five\n",
      "six\n",
      "seven\n",
      "eight\n"
     ]
    }
   ],
   "source": [
    "for i in l1:\n",
    "   print(i)"
   ]
  },
  {
   "cell_type": "code",
   "execution_count": 10,
   "id": "c8c72ff2-0446-4b81-a425-42360221d905",
   "metadata": {},
   "outputs": [
    {
     "name": "stdout",
     "output_type": "stream",
     "text": [
      "(0, 'one')\n",
      "(1, 'two')\n",
      "(2, 'three')\n",
      "(3, 'four')\n",
      "(4, 'five')\n",
      "(5, 'six')\n",
      "(6, 'seven')\n",
      "(7, 'eight')\n"
     ]
    }
   ],
   "source": [
    "for i in enumerate(l1):\n",
    "    print(i)"
   ]
  },
  {
   "cell_type": "code",
   "execution_count": 12,
   "id": "f2a740d6-73d8-4035-af89-48a17001502a",
   "metadata": {},
   "outputs": [],
   "source": [
    "l1.insert(0,'zero')"
   ]
  },
  {
   "cell_type": "code",
   "execution_count": 14,
   "id": "7f293443-3e0c-4610-8b00-02128610b043",
   "metadata": {},
   "outputs": [
    {
     "data": {
      "text/plain": [
       "['zero', 'one', 'two', 'three', 'four', 'five', 'six', 'seven', 'eight']"
      ]
     },
     "execution_count": 14,
     "metadata": {},
     "output_type": "execute_result"
    }
   ],
   "source": [
    "l1"
   ]
  },
  {
   "cell_type": "code",
   "execution_count": 16,
   "id": "4515f0e7-a5a6-4da6-b4ee-68fabf36a98d",
   "metadata": {},
   "outputs": [
    {
     "name": "stdout",
     "output_type": "stream",
     "text": [
      "(0, 'zero')\n",
      "(1, 'one')\n",
      "(2, 'two')\n",
      "(3, 'three')\n",
      "(4, 'four')\n",
      "(5, 'five')\n",
      "(6, 'six')\n",
      "(7, 'seven')\n",
      "(8, 'eight')\n"
     ]
    }
   ],
   "source": [
    "for i in enumerate(l1):\n",
    "    print(i)"
   ]
  },
  {
   "cell_type": "code",
   "execution_count": 18,
   "id": "0e18b257-0962-485f-bce8-60c13e917e38",
   "metadata": {},
   "outputs": [],
   "source": [
    "l2=[]"
   ]
  },
  {
   "cell_type": "code",
   "execution_count": 20,
   "id": "d75c77b9-1f57-4258-999e-7a4f12c90aaf",
   "metadata": {},
   "outputs": [],
   "source": [
    "l2=l1"
   ]
  },
  {
   "cell_type": "code",
   "execution_count": 22,
   "id": "bdfee6ba-de70-4488-a8c9-56ce5eb38788",
   "metadata": {},
   "outputs": [
    {
     "data": {
      "text/plain": [
       "['zero', 'one', 'two', 'three', 'four', 'five', 'six', 'seven', 'eight']"
      ]
     },
     "execution_count": 22,
     "metadata": {},
     "output_type": "execute_result"
    }
   ],
   "source": [
    "l2"
   ]
  },
  {
   "cell_type": "code",
   "execution_count": 24,
   "id": "4067d94d-e4c6-4524-a668-a54cb9493421",
   "metadata": {},
   "outputs": [],
   "source": [
    "l2.append('one')"
   ]
  },
  {
   "cell_type": "code",
   "execution_count": 26,
   "id": "c2bc7e31-0774-4f78-864f-263387460fed",
   "metadata": {},
   "outputs": [],
   "source": [
    "l2.append('four')"
   ]
  },
  {
   "cell_type": "code",
   "execution_count": 28,
   "id": "df14dfe1-d418-4b26-aeec-3148822cdbdf",
   "metadata": {},
   "outputs": [
    {
     "data": {
      "text/plain": [
       "['zero',\n",
       " 'one',\n",
       " 'two',\n",
       " 'three',\n",
       " 'four',\n",
       " 'five',\n",
       " 'six',\n",
       " 'seven',\n",
       " 'eight',\n",
       " 'one',\n",
       " 'four']"
      ]
     },
     "execution_count": 28,
     "metadata": {},
     "output_type": "execute_result"
    }
   ],
   "source": [
    "l2"
   ]
  },
  {
   "cell_type": "code",
   "execution_count": 30,
   "id": "4d1ace67-6fd9-44c2-b671-148e8d17f627",
   "metadata": {},
   "outputs": [
    {
     "data": {
      "text/plain": [
       "2"
      ]
     },
     "execution_count": 30,
     "metadata": {},
     "output_type": "execute_result"
    }
   ],
   "source": [
    "l2.count('four')"
   ]
  },
  {
   "cell_type": "code",
   "execution_count": 32,
   "id": "d391c37f-f24a-4c7f-9db0-99584a048ef2",
   "metadata": {},
   "outputs": [
    {
     "data": {
      "text/plain": [
       "2"
      ]
     },
     "execution_count": 32,
     "metadata": {},
     "output_type": "execute_result"
    }
   ],
   "source": [
    "l2.count('one')"
   ]
  },
  {
   "cell_type": "code",
   "execution_count": 34,
   "id": "f5742fbf-70fa-4e5f-96bb-4be20f0a99cd",
   "metadata": {},
   "outputs": [
    {
     "data": {
      "text/plain": [
       "['zero',\n",
       " 'one',\n",
       " 'two',\n",
       " 'three',\n",
       " 'four',\n",
       " 'five',\n",
       " 'six',\n",
       " 'seven',\n",
       " 'eight',\n",
       " 'one',\n",
       " 'four']"
      ]
     },
     "execution_count": 34,
     "metadata": {},
     "output_type": "execute_result"
    }
   ],
   "source": [
    "l1"
   ]
  },
  {
   "cell_type": "code",
   "execution_count": 36,
   "id": "15c58a87-cd3e-4142-b296-3467a10e10e1",
   "metadata": {},
   "outputs": [
    {
     "data": {
      "text/plain": [
       "['zero',\n",
       " 'one',\n",
       " 'two',\n",
       " 'three',\n",
       " 'four',\n",
       " 'five',\n",
       " 'six',\n",
       " 'seven',\n",
       " 'eight',\n",
       " 'one',\n",
       " 'four']"
      ]
     },
     "execution_count": 36,
     "metadata": {},
     "output_type": "execute_result"
    }
   ],
   "source": [
    "l2"
   ]
  },
  {
   "cell_type": "code",
   "execution_count": 40,
   "id": "0ca500c0-7ba5-4d26-9987-e12f19bc3121",
   "metadata": {},
   "outputs": [],
   "source": [
    "l3=[]"
   ]
  },
  {
   "cell_type": "code",
   "execution_count": 42,
   "id": "45dc1d49-475e-41f0-bf52-e30aad1ed7b6",
   "metadata": {},
   "outputs": [],
   "source": [
    "l3=l1.append(0)"
   ]
  },
  {
   "cell_type": "code",
   "execution_count": 48,
   "id": "4adfe1e3-0d67-42e0-822f-b5ac6cc4c7de",
   "metadata": {},
   "outputs": [
    {
     "name": "stdout",
     "output_type": "stream",
     "text": [
      "None\n"
     ]
    }
   ],
   "source": [
    "print(l3)"
   ]
  },
  {
   "cell_type": "code",
   "execution_count": 57,
   "id": "e5a462d6-ef3a-4c63-9aae-37df208f014a",
   "metadata": {},
   "outputs": [
    {
     "name": "stdout",
     "output_type": "stream",
     "text": [
      "[10]\n"
     ]
    }
   ],
   "source": [
    "l3=[10]\n",
    "print(l3)"
   ]
  },
  {
   "cell_type": "code",
   "execution_count": 59,
   "id": "a3e0fd88-d1f7-4c99-a20c-f1fb8409e36c",
   "metadata": {},
   "outputs": [],
   "source": [
    "l3.append(16)"
   ]
  },
  {
   "cell_type": "code",
   "execution_count": 61,
   "id": "50c75c61-efe6-48bc-abc1-b14a8c098dd3",
   "metadata": {},
   "outputs": [
    {
     "data": {
      "text/plain": [
       "[10, 16]"
      ]
     },
     "execution_count": 61,
     "metadata": {},
     "output_type": "execute_result"
    }
   ],
   "source": [
    "l3"
   ]
  },
  {
   "cell_type": "code",
   "execution_count": 63,
   "id": "fd3ce36d-0d36-4d4d-9013-fbc0df52a2bd",
   "metadata": {},
   "outputs": [],
   "source": [
    "l3.append(26)\n",
    "l3.append(1)\n",
    "l3.append(11)\n",
    "l3.append(4)\n",
    "l3.append(176)\n",
    "l3.append(102)"
   ]
  },
  {
   "cell_type": "code",
   "execution_count": 65,
   "id": "af22cd4b-46f8-4ba5-831e-8fe1713d62ba",
   "metadata": {},
   "outputs": [
    {
     "data": {
      "text/plain": [
       "[10, 16, 26, 1, 11, 4, 176, 102]"
      ]
     },
     "execution_count": 65,
     "metadata": {},
     "output_type": "execute_result"
    }
   ],
   "source": [
    "l3"
   ]
  },
  {
   "cell_type": "code",
   "execution_count": 67,
   "id": "6411ea67-fa9a-46c1-9297-d1bc797006b5",
   "metadata": {},
   "outputs": [],
   "source": [
    "l3.sort()"
   ]
  },
  {
   "cell_type": "code",
   "execution_count": 69,
   "id": "14c80c7e-f135-4dcb-b8e2-9cdcac03329f",
   "metadata": {},
   "outputs": [
    {
     "data": {
      "text/plain": [
       "[1, 4, 10, 11, 16, 26, 102, 176]"
      ]
     },
     "execution_count": 69,
     "metadata": {},
     "output_type": "execute_result"
    }
   ],
   "source": [
    "l3"
   ]
  },
  {
   "cell_type": "code",
   "execution_count": 75,
   "id": "93375ac6-4f26-4495-a2fa-1f2a87f676eb",
   "metadata": {},
   "outputs": [],
   "source": [
    "l3.sort(reverse=True)"
   ]
  },
  {
   "cell_type": "code",
   "execution_count": 77,
   "id": "191b191b-e29b-4fc2-9a44-f985a1f2826c",
   "metadata": {},
   "outputs": [
    {
     "data": {
      "text/plain": [
       "[176, 102, 26, 16, 11, 10, 4, 1]"
      ]
     },
     "execution_count": 77,
     "metadata": {},
     "output_type": "execute_result"
    }
   ],
   "source": [
    "l3"
   ]
  },
  {
   "cell_type": "code",
   "execution_count": 79,
   "id": "e72674d0-f3a9-4fd4-84b3-fe5991055d2f",
   "metadata": {},
   "outputs": [
    {
     "data": {
      "text/plain": [
       "()"
      ]
     },
     "execution_count": 79,
     "metadata": {},
     "output_type": "execute_result"
    }
   ],
   "source": [
    "t=()\n",
    "t"
   ]
  },
  {
   "cell_type": "code",
   "execution_count": null,
   "id": "3bffbe0b-073a-468b-a9e5-bc11e1de265a",
   "metadata": {},
   "outputs": [],
   "source": []
  }
 ],
 "metadata": {
  "kernelspec": {
   "display_name": "Python 3 (ipykernel)",
   "language": "python",
   "name": "python3"
  },
  "language_info": {
   "codemirror_mode": {
    "name": "ipython",
    "version": 3
   },
   "file_extension": ".py",
   "mimetype": "text/x-python",
   "name": "python",
   "nbconvert_exporter": "python",
   "pygments_lexer": "ipython3",
   "version": "3.12.7"
  }
 },
 "nbformat": 4,
 "nbformat_minor": 5
}
